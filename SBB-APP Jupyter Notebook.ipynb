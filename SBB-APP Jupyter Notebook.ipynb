{
 "cells": [
  {
   "cell_type": "markdown",
   "metadata": {},
   "source": [
    "SBB-APP, this notebook will gather all the differents code, Data Importation, Manipulation, Cleaning & Exploratory about data related to the Train Network in Switzerland. The final aim is to develop an interactive Dashboard with Bokeh. \n",
    "\n",
    "Please note that on the 17th of October 18, we are still struggling to get more data to complete the Dashboard. \n",
    "\n",
    "Besides, I will gather in a single notebook all the different Script.\n",
    "\n",
    "I will be glad to get your commments,\n"
   ]
  },
  {
   "cell_type": "code",
   "execution_count": 3,
   "metadata": {},
   "outputs": [],
   "source": [
    "\"\"\"PART1 - Data Gathering\n",
    "We start with gathering all the different data that will be needed\n",
    "\n",
    "As a I find a map one of the most interactive and efficient way to communicate your data\n",
    "I went on http://www.diva-gis.org/gdata to download the SHP of Switzerland, and we will use GeoPandas to be able to read this SHP file\n",
    "\n",
    "Then, fortunately, we can Access the Open Data Portal of SBB (Swissrail company) providing different datasets to get the information we would like.\n",
    "After looking at the different proposed dataset, we will be working mainly with the wollowing : passagierfrequenz.csv, including information about passengers and Swiss Stop.\n",
    "\"\"\"\n",
    "\n",
    "# -*- coding: utf-8 -*-\n",
    "\n",
    "import pandas as pd #DataManipulation\n",
    "import geopandas as gpd #Convert SHP file into readable DataFrame\n",
    "import os #To get path to Folders and File\n",
    "from bokeh.models import ColumnDataSource, GeoJSONDataSource \n",
    "#ColumnDataSource -> Way for bokeh to read your data\n",
    "#GeoJSONDataSource -> Fortunately, Bokeh developed a way to read Geometry Information through GeoJSONDataSource\n",
    "\n",
    "%matplotlib inline \n",
    "#To be able to plot within the Notebook \n",
    "\n",
    "\"\"\"PART1 - A - Data Importation & Cleaning > our future DataFrame data_passengers\"\"\"\n",
    "\n"
   ]
  },
  {
   "cell_type": "code",
   "execution_count": null,
   "metadata": {},
   "outputs": [],
   "source": []
  }
 ],
 "metadata": {
  "kernelspec": {
   "display_name": "Python 3",
   "language": "python",
   "name": "python3"
  },
  "language_info": {
   "codemirror_mode": {
    "name": "ipython",
    "version": 3
   },
   "file_extension": ".py",
   "mimetype": "text/x-python",
   "name": "python",
   "nbconvert_exporter": "python",
   "pygments_lexer": "ipython3",
   "version": "3.6.2"
  }
 },
 "nbformat": 4,
 "nbformat_minor": 2
}
